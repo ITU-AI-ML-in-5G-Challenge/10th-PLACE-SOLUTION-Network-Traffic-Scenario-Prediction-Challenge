{
 "cells": [
  {
   "cell_type": "markdown",
   "id": "02c286ab",
   "metadata": {
    "id": "wkCcLQrb9gTM"
   },
   "source": [
    "### Team : Winning_this\n",
    "\n",
    "* Competition: Network Scenario Prediction Challenge by ITU\n",
    "* Device used to run this notebook: Google colab, PRO version."
   ]
  },
  {
   "cell_type": "markdown",
   "id": "4e571802",
   "metadata": {},
   "source": [
    "Import Basic Libraries"
   ]
  },
  {
   "cell_type": "code",
   "execution_count": 2,
   "id": "bb8f24ac",
   "metadata": {
    "id": "bb8f24ac"
   },
   "outputs": [],
   "source": [
    "# import ee\n",
    "import numpy as np\n",
    "import pandas as pd\n",
    "from sklearn.model_selection import train_test_split\n",
    "from sklearn.metrics import accuracy_score\n",
    "from sklearn.ensemble import RandomForestClassifier\n",
    "import random\n",
    "import matplotlib.pyplot as plt\n",
    "\n",
    "import os\n",
    "\n",
    "import warnings\n",
    "warnings.filterwarnings('ignore')"
   ]
  },
  {
   "cell_type": "markdown",
   "id": "c9f9cc4d",
   "metadata": {},
   "source": [
    "Setup Trainig Data"
   ]
  },
  {
   "cell_type": "code",
   "execution_count": 3,
   "id": "i4x0hBlp-IyE",
   "metadata": {
    "id": "i4x0hBlp-IyE"
   },
   "outputs": [],
   "source": [
    "DATA_PATH  = \"/content/drive/MyDrive/Network_traffic/\""
   ]
  },
  {
   "cell_type": "code",
   "execution_count": 4,
   "id": "J52Qpeja-TdV",
   "metadata": {
    "id": "J52Qpeja-TdV"
   },
   "outputs": [],
   "source": [
    "train  = pd.read_csv(DATA_PATH +\"train.csv\")\n",
    "test  = pd.read_csv(DATA_PATH +\"test.csv\")"
   ]
  },
  {
   "cell_type": "code",
   "execution_count": 10,
   "id": "cfc7c718",
   "metadata": {
    "id": "cfc7c718"
   },
   "outputs": [],
   "source": [
    "ntrain = train.shape[0]\n",
    "ntest = test.shape[0]"
   ]
  },
  {
   "cell_type": "code",
   "execution_count": 11,
   "id": "30a3acd6",
   "metadata": {
    "id": "30a3acd6"
   },
   "outputs": [],
   "source": [
    "df=pd.concat([train,test])"
   ]
  },
  {
   "cell_type": "code",
   "execution_count": 12,
   "id": "gCHcC040Z_6-",
   "metadata": {
    "id": "gCHcC040Z_6-"
   },
   "outputs": [],
   "source": [
    "del train"
   ]
  },
  {
   "cell_type": "code",
   "execution_count": 13,
   "id": "O_DkdEIOAuQB",
   "metadata": {
    "id": "O_DkdEIOAuQB"
   },
   "outputs": [],
   "source": [
    "del test"
   ]
  },
  {
   "cell_type": "code",
   "execution_count": 14,
   "id": "yH1aQpXDCrP3",
   "metadata": {
    "id": "yH1aQpXDCrP3"
   },
   "outputs": [],
   "source": [
    "df.file  = df.file.astype(str).apply(lambda x:x.split(\".\")[0]).str.lower()"
   ]
  },
  {
   "cell_type": "code",
   "execution_count": 15,
   "id": "Gh29m92BEMB2",
   "metadata": {
    "id": "Gh29m92BEMB2"
   },
   "outputs": [],
   "source": [
    "df['ID'] = df.file +\"_\" +df.time.astype(str)"
   ]
  },
  {
   "cell_type": "markdown",
   "id": "7241fb41",
   "metadata": {},
   "source": [
    "Create Lag Features"
   ]
  },
  {
   "cell_type": "code",
   "execution_count": 16,
   "id": "Xuyy_pzIfybX",
   "metadata": {
    "colab": {
     "base_uri": "https://localhost:8080/"
    },
    "id": "Xuyy_pzIfybX",
    "outputId": "e82cb519-5049-4f20-e72c-33db0e78a6b5"
   },
   "outputs": [
    {
     "name": "stdout",
     "output_type": "stream",
     "text": [
      "HERE -1\n",
      "HERE -11\n",
      "HERE -21\n",
      "HERE -31\n",
      "HERE -41\n",
      "HERE -51\n",
      "HERE -61\n",
      "HERE -71\n",
      "HERE -81\n",
      "HERE -91\n"
     ]
    }
   ],
   "source": [
    "\n",
    "lag_intervals = [-x for x in range(1, 101, 10)]  # Generate a list of even intervals from 2 to 90,000\n",
    "\n",
    "# Create an empty DataFrame to store the lag features\n",
    "lag_df = pd.DataFrame()\n",
    "\n",
    "for interval in lag_intervals:\n",
    "    print(f\"HERE {interval}\")\n",
    "    # Create lag features for the current interval and add them to lag_df\n",
    "    lag_df[f'portPktIn_{interval}'] = df.groupby('file')['portPktIn'].shift(interval)\n",
    "\n",
    "# Concatenate lag_df with the original DataFrame df\n",
    "df = pd.concat([df, lag_df], axis=1)\n"
   ]
  },
  {
   "cell_type": "code",
   "execution_count": 17,
   "id": "-NRnT-A8XoN5",
   "metadata": {
    "colab": {
     "base_uri": "https://localhost:8080/"
    },
    "id": "-NRnT-A8XoN5",
    "outputId": "36d94487-d4b0-4186-cb96-488a4cb8f92c"
   },
   "outputs": [
    {
     "name": "stdout",
     "output_type": "stream",
     "text": [
      "HERE -1\n",
      "HERE -11\n",
      "HERE -21\n",
      "HERE -31\n",
      "HERE -41\n",
      "HERE -51\n",
      "HERE -61\n",
      "HERE -71\n",
      "HERE -81\n",
      "HERE -91\n",
      "HERE -101\n",
      "HERE -111\n",
      "HERE -121\n",
      "HERE -131\n",
      "HERE -141\n",
      "HERE -151\n",
      "HERE -161\n",
      "HERE -171\n",
      "HERE -181\n",
      "HERE -191\n",
      "HERE -201\n",
      "HERE -211\n",
      "HERE -221\n",
      "HERE -231\n",
      "HERE -241\n",
      "HERE -251\n",
      "HERE -261\n",
      "HERE -271\n",
      "HERE -281\n",
      "HERE -291\n"
     ]
    }
   ],
   "source": [
    "\n",
    "lag_intervals = [-x for x in range(1, 301, 10)]  # Generate a list of even intervals from 2 to 90,000\n",
    "\n",
    "# Create an empty DataFrame to store the lag features\n",
    "lag_df = pd.DataFrame()\n",
    "\n",
    "for interval in lag_intervals:\n",
    "    print(f\"HERE {interval}\")\n",
    "    # Create lag features for the current interval and add them to lag_df\n",
    "    lag_df[f'portPktOut_Lag_{interval}'] = df.groupby('file')['portPktOut'].shift(interval)\n",
    "\n",
    "# Concatenate lag_df with the original DataFrame df\n",
    "df = pd.concat([df, lag_df], axis=1)\n"
   ]
  },
  {
   "cell_type": "code",
   "execution_count": 18,
   "id": "4i_WMlqNUHsm",
   "metadata": {
    "colab": {
     "base_uri": "https://localhost:8080/"
    },
    "id": "4i_WMlqNUHsm",
    "outputId": "969c9cf3-4239-480f-ff28-25cfec3de798"
   },
   "outputs": [
    {
     "name": "stdout",
     "output_type": "stream",
     "text": [
      "HERE 1\n",
      "HERE 11\n",
      "HERE 21\n",
      "HERE 31\n",
      "HERE 41\n",
      "HERE 51\n",
      "HERE 61\n",
      "HERE 71\n",
      "HERE 81\n",
      "HERE 91\n",
      "HERE 101\n",
      "HERE 111\n",
      "HERE 121\n",
      "HERE 131\n",
      "HERE 141\n",
      "HERE 151\n",
      "HERE 161\n",
      "HERE 171\n",
      "HERE 181\n",
      "HERE 191\n",
      "HERE 201\n",
      "HERE 211\n",
      "HERE 221\n",
      "HERE 231\n",
      "HERE 241\n",
      "HERE 251\n",
      "HERE 261\n",
      "HERE 271\n",
      "HERE 281\n",
      "HERE 291\n"
     ]
    }
   ],
   "source": [
    "\n",
    "lag_intervals = [x for x in range(1, 301, 10)]  # Generate a list of even intervals from 2 to 90,000\n",
    "\n",
    "# Create an empty DataFrame to store the lag features\n",
    "lag_df = pd.DataFrame()\n",
    "\n",
    "for interval in lag_intervals:\n",
    "    print(f\"HERE {interval}\")\n",
    "    # Create lag features for the current interval and add them to lag_df\n",
    "    lag_df[f'portPktOut_Lag_{interval}'] = df.groupby('file')['portPktOut'].shift(interval)\n",
    "\n",
    "# Concatenate lag_df with the original DataFrame df\n",
    "df = pd.concat([df, lag_df], axis=1)\n"
   ]
  },
  {
   "cell_type": "code",
   "execution_count": 19,
   "id": "bgQWbAOZipYK",
   "metadata": {
    "id": "bgQWbAOZipYK"
   },
   "outputs": [],
   "source": [
    "del lag_df"
   ]
  },
  {
   "cell_type": "code",
   "execution_count": 20,
   "id": "GyW_u7w9i_2B",
   "metadata": {
    "colab": {
     "base_uri": "https://localhost:8080/"
    },
    "id": "GyW_u7w9i_2B",
    "outputId": "61d94415-e123-4f5b-f9cb-753281ba3ecf"
   },
   "outputs": [
    {
     "name": "stdout",
     "output_type": "stream",
     "text": [
      "HERE 0\n",
      "HERE 100\n",
      "HERE 200\n",
      "HERE 300\n",
      "HERE 400\n",
      "HERE 500\n",
      "HERE 600\n",
      "HERE 700\n",
      "HERE 800\n",
      "HERE 900\n",
      "HERE 1000\n",
      "HERE 1100\n",
      "HERE 1200\n",
      "HERE 1300\n",
      "HERE 1400\n"
     ]
    }
   ],
   "source": [
    "\n",
    "lag_intervals = [x for x in range(0, 1500, 100)]  # Generate a list of even intervals from 2 to 90,000\n",
    "\n",
    "# Create an empty DataFrame to store the lag features\n",
    "lag_df = pd.DataFrame()\n",
    "\n",
    "for interval in lag_intervals:\n",
    "    print(f\"HERE {interval}\")\n",
    "    # Create lag features for the current interval and add them to lag_df\n",
    "    lag_df[f'portPktOut_Lag_{interval}'] = df.groupby('file')['portPktOut'].shift(interval)\n",
    "\n",
    "# Concatenate lag_df with the original DataFrame df\n",
    "df = pd.concat([df, lag_df], axis=1)\n"
   ]
  },
  {
   "cell_type": "code",
   "execution_count": 21,
   "id": "5uKjxORijAE0",
   "metadata": {
    "id": "5uKjxORijAE0"
   },
   "outputs": [],
   "source": [
    "del lag_df"
   ]
  },
  {
   "cell_type": "code",
   "execution_count": 22,
   "id": "qSY5vbT14DNC",
   "metadata": {
    "colab": {
     "base_uri": "https://localhost:8080/"
    },
    "id": "qSY5vbT14DNC",
    "outputId": "c8eb462e-20cb-403a-820e-ec386e40ed22"
   },
   "outputs": [
    {
     "name": "stdout",
     "output_type": "stream",
     "text": [
      "HERE -2\n",
      "HERE -102\n",
      "HERE -202\n",
      "HERE -302\n",
      "HERE -402\n",
      "HERE -502\n",
      "HERE -602\n",
      "HERE -702\n",
      "HERE -802\n",
      "HERE -902\n",
      "HERE -1002\n",
      "HERE -1102\n",
      "HERE -1202\n",
      "HERE -1302\n",
      "HERE -1402\n"
     ]
    }
   ],
   "source": [
    "\n",
    "lag_intervals = [-x for x in range(2, 1501, 100)]  # Generate a list of even intervals from 2 to 90,000\n",
    "\n",
    "# Create an empty DataFrame to store the lag features\n",
    "lag_df = pd.DataFrame()\n",
    "\n",
    "for interval in lag_intervals:\n",
    "    print(f\"HERE {interval}\")\n",
    "    # Create lag features for the current interval and add them to lag_df\n",
    "    lag_df[f'portPktOut_Lag_{interval}'] = df.groupby('file')['portPktOut'].shift(interval)\n",
    "\n",
    "# Concatenate lag_df with the original DataFrame df\n",
    "df = pd.concat([df, lag_df], axis=1)\n",
    "del lag_df"
   ]
  },
  {
   "cell_type": "code",
   "execution_count": 23,
   "id": "Wdh-qzhqCjAr",
   "metadata": {
    "id": "Wdh-qzhqCjAr"
   },
   "outputs": [],
   "source": [
    "# Calculate lag features for 'portPktIn', 'portPktOut', and 'qSize' columns\n",
    "lag_intervals = [1,2,3,4,5,6,7,8,9,10,11,12,15,20,30,50,100,300,500,800,1000,5000,10000,30000,60000,70000,90000]  # Define the time intervals for lag features\n",
    "for interval in lag_intervals:\n",
    "    df[f'portPktOut_Lag_{interval}'] = df.groupby('file')['portPktOut'].shift(interval)"
   ]
  },
  {
   "cell_type": "code",
   "execution_count": 24,
   "id": "3TQZoSXRWJYB",
   "metadata": {
    "id": "3TQZoSXRWJYB"
   },
   "outputs": [],
   "source": [
    "lag_intervals = [-1,-2,-3,-4,-5,-6,-7,-8,-9,-11,-12,-15,-30,-50,-600]  # Define the time intervals for lag features\n",
    "for interval in lag_intervals:\n",
    "    df[f'portPktOut_Lag_{interval}'] = df.groupby('file')['portPktOut'].shift(interval)"
   ]
  },
  {
   "cell_type": "code",
   "execution_count": 26,
   "id": "sA3fYfxfIUJb",
   "metadata": {
    "id": "sA3fYfxfIUJb"
   },
   "outputs": [],
   "source": [
    "lag_intervals = [1,2,3,4,5,6,7,8,9,10,11,12]  # Define the time intervals for lag features\n",
    "for interval in lag_intervals:\n",
    "    df[f'portPktIn_Lag_{interval}'] = df.groupby('file')['portPktIn'].shift(interval)\n",
    "    df[f'qSize_Lag_{interval}'] = df.groupby('file')['qSize'].shift(interval)"
   ]
  },
  {
   "cell_type": "markdown",
   "id": "95db184d",
   "metadata": {},
   "source": [
    "Split Data Into Train and Test"
   ]
  },
  {
   "cell_type": "code",
   "execution_count": 33,
   "id": "9367e8bd",
   "metadata": {
    "id": "9367e8bd"
   },
   "outputs": [],
   "source": [
    "#Get the new dataset\n",
    "train = df[:ntrain]\n",
    "test = df[ntrain:]"
   ]
  },
  {
   "cell_type": "code",
   "execution_count": 38,
   "id": "b6e45465",
   "metadata": {
    "id": "b6e45465"
   },
   "outputs": [],
   "source": [
    "del df"
   ]
  },
  {
   "cell_type": "markdown",
   "id": "16c4f267",
   "metadata": {},
   "source": [
    "###### Modelling"
   ]
  },
  {
   "cell_type": "code",
   "execution_count": 36,
   "id": "48pSGulWktpZ",
   "metadata": {
    "colab": {
     "base_uri": "https://localhost:8080/"
    },
    "id": "48pSGulWktpZ",
    "outputId": "6d2b8327-e9cb-476b-c5fa-f0f1c0a000ed"
   },
   "outputs": [
    {
     "name": "stdout",
     "output_type": "stream",
     "text": [
      "Collecting catboost\n",
      "  Downloading catboost-1.2-cp310-cp310-manylinux2014_x86_64.whl (98.6 MB)\n",
      "\u001b[2K     \u001b[90m━━━━━━━━━━━━━━━━━━━━━━━━━━━━━━━━━━━━━━━━\u001b[0m \u001b[32m98.6/98.6 MB\u001b[0m \u001b[31m18.3 MB/s\u001b[0m eta \u001b[36m0:00:00\u001b[0m\n",
      "\u001b[?25hRequirement already satisfied: graphviz in /usr/local/lib/python3.10/dist-packages (from catboost) (0.20.1)\n",
      "Requirement already satisfied: matplotlib in /usr/local/lib/python3.10/dist-packages (from catboost) (3.7.1)\n",
      "Requirement already satisfied: numpy>=1.16.0 in /usr/local/lib/python3.10/dist-packages (from catboost) (1.23.5)\n",
      "Requirement already satisfied: pandas>=0.24 in /usr/local/lib/python3.10/dist-packages (from catboost) (1.5.3)\n",
      "Requirement already satisfied: scipy in /usr/local/lib/python3.10/dist-packages (from catboost) (1.10.1)\n",
      "Requirement already satisfied: plotly in /usr/local/lib/python3.10/dist-packages (from catboost) (5.15.0)\n",
      "Requirement already satisfied: six in /usr/local/lib/python3.10/dist-packages (from catboost) (1.16.0)\n",
      "Requirement already satisfied: python-dateutil>=2.8.1 in /usr/local/lib/python3.10/dist-packages (from pandas>=0.24->catboost) (2.8.2)\n",
      "Requirement already satisfied: pytz>=2020.1 in /usr/local/lib/python3.10/dist-packages (from pandas>=0.24->catboost) (2023.3)\n",
      "Requirement already satisfied: contourpy>=1.0.1 in /usr/local/lib/python3.10/dist-packages (from matplotlib->catboost) (1.1.0)\n",
      "Requirement already satisfied: cycler>=0.10 in /usr/local/lib/python3.10/dist-packages (from matplotlib->catboost) (0.11.0)\n",
      "Requirement already satisfied: fonttools>=4.22.0 in /usr/local/lib/python3.10/dist-packages (from matplotlib->catboost) (4.42.1)\n",
      "Requirement already satisfied: kiwisolver>=1.0.1 in /usr/local/lib/python3.10/dist-packages (from matplotlib->catboost) (1.4.4)\n",
      "Requirement already satisfied: packaging>=20.0 in /usr/local/lib/python3.10/dist-packages (from matplotlib->catboost) (23.1)\n",
      "Requirement already satisfied: pillow>=6.2.0 in /usr/local/lib/python3.10/dist-packages (from matplotlib->catboost) (9.4.0)\n",
      "Requirement already satisfied: pyparsing>=2.3.1 in /usr/local/lib/python3.10/dist-packages (from matplotlib->catboost) (3.1.1)\n",
      "Requirement already satisfied: tenacity>=6.2.0 in /usr/local/lib/python3.10/dist-packages (from plotly->catboost) (8.2.3)\n",
      "Installing collected packages: catboost\n",
      "Successfully installed catboost-1.2\n"
     ]
    }
   ],
   "source": [
    "!pip install catboost"
   ]
  },
  {
   "cell_type": "code",
   "execution_count": 37,
   "id": "5SccdjW2kKWd",
   "metadata": {
    "colab": {
     "base_uri": "https://localhost:8080/"
    },
    "id": "5SccdjW2kKWd",
    "outputId": "07676922-6082-4558-9d79-f558365f994f"
   },
   "outputs": [
    {
     "name": "stdout",
     "output_type": "stream",
     "text": [
      "0:\tlearn: 0.2866328\ttest: 0.2866328\tbest: 0.2866328 (0)\ttotal: 613ms\tremaining: 51m 5s\n",
      "50:\tlearn: 0.6128055\ttest: 0.6128055\tbest: 0.6128055 (50)\ttotal: 32.2s\tremaining: 52m 7s\n",
      "100:\tlearn: 0.6499466\ttest: 0.6499466\tbest: 0.6499466 (100)\ttotal: 1m 3s\tremaining: 51m 33s\n",
      "150:\tlearn: 0.6660522\ttest: 0.6660522\tbest: 0.6660522 (150)\ttotal: 1m 35s\tremaining: 51m 7s\n",
      "200:\tlearn: 0.6748843\ttest: 0.6748843\tbest: 0.6748843 (200)\ttotal: 2m 8s\tremaining: 50m 57s\n",
      "250:\tlearn: 0.6821072\ttest: 0.6821072\tbest: 0.6821072 (250)\ttotal: 2m 40s\tremaining: 50m 35s\n",
      "300:\tlearn: 0.6880296\ttest: 0.6880296\tbest: 0.6880296 (300)\ttotal: 3m 13s\tremaining: 50m 24s\n",
      "350:\tlearn: 0.6923986\ttest: 0.6923986\tbest: 0.6923986 (350)\ttotal: 3m 46s\tremaining: 49m 55s\n",
      "400:\tlearn: 0.6961803\ttest: 0.6961803\tbest: 0.6961803 (400)\ttotal: 4m 19s\tremaining: 49m 40s\n",
      "450:\tlearn: 0.6996926\ttest: 0.6996926\tbest: 0.6996926 (450)\ttotal: 4m 53s\tremaining: 49m 19s\n",
      "500:\tlearn: 0.7028360\ttest: 0.7028360\tbest: 0.7028360 (500)\ttotal: 5m 26s\tremaining: 48m 54s\n",
      "550:\tlearn: 0.7054600\ttest: 0.7054600\tbest: 0.7054600 (550)\ttotal: 6m\tremaining: 48m 30s\n",
      "600:\tlearn: 0.7080860\ttest: 0.7080860\tbest: 0.7080860 (600)\ttotal: 6m 34s\tremaining: 48m 7s\n",
      "650:\tlearn: 0.7103048\ttest: 0.7103048\tbest: 0.7103048 (650)\ttotal: 7m 8s\tremaining: 47m 40s\n",
      "700:\tlearn: 0.7122647\ttest: 0.7122647\tbest: 0.7122647 (700)\ttotal: 7m 41s\tremaining: 47m 12s\n",
      "750:\tlearn: 0.7139905\ttest: 0.7139905\tbest: 0.7139905 (750)\ttotal: 8m 15s\tremaining: 46m 43s\n",
      "800:\tlearn: 0.7159583\ttest: 0.7159583\tbest: 0.7159583 (800)\ttotal: 8m 48s\tremaining: 46m 10s\n",
      "850:\tlearn: 0.7176948\ttest: 0.7176948\tbest: 0.7176948 (850)\ttotal: 9m 21s\tremaining: 45m 37s\n",
      "900:\tlearn: 0.7193381\ttest: 0.7193381\tbest: 0.7193381 (900)\ttotal: 9m 54s\tremaining: 45m 5s\n",
      "950:\tlearn: 0.7208088\ttest: 0.7208088\tbest: 0.7208088 (950)\ttotal: 10m 28s\tremaining: 44m 35s\n",
      "1000:\tlearn: 0.7221511\ttest: 0.7221511\tbest: 0.7221511 (1000)\ttotal: 11m 2s\tremaining: 44m 5s\n",
      "1050:\tlearn: 0.7235620\ttest: 0.7235620\tbest: 0.7235620 (1050)\ttotal: 11m 35s\tremaining: 43m 32s\n",
      "1100:\tlearn: 0.7248332\ttest: 0.7248332\tbest: 0.7248332 (1100)\ttotal: 12m 8s\tremaining: 43m 1s\n",
      "1150:\tlearn: 0.7259733\ttest: 0.7259733\tbest: 0.7259733 (1150)\ttotal: 12m 41s\tremaining: 42m 28s\n",
      "1200:\tlearn: 0.7270460\ttest: 0.7270460\tbest: 0.7270460 (1200)\ttotal: 13m 14s\tremaining: 41m 53s\n",
      "1250:\tlearn: 0.7281053\ttest: 0.7281053\tbest: 0.7281068 (1249)\ttotal: 13m 46s\tremaining: 41m 17s\n",
      "1300:\tlearn: 0.7290574\ttest: 0.7290574\tbest: 0.7290574 (1300)\ttotal: 14m 19s\tremaining: 40m 43s\n",
      "1350:\tlearn: 0.7301750\ttest: 0.7301750\tbest: 0.7301750 (1350)\ttotal: 14m 53s\tremaining: 40m 14s\n",
      "1400:\tlearn: 0.7311182\ttest: 0.7311182\tbest: 0.7311182 (1400)\ttotal: 15m 26s\tremaining: 39m 39s\n",
      "1450:\tlearn: 0.7320068\ttest: 0.7320068\tbest: 0.7320068 (1450)\ttotal: 15m 58s\tremaining: 39m 4s\n",
      "1500:\tlearn: 0.7328417\ttest: 0.7328417\tbest: 0.7328417 (1500)\ttotal: 16m 31s\tremaining: 38m 30s\n",
      "1550:\tlearn: 0.7335752\ttest: 0.7335752\tbest: 0.7335752 (1550)\ttotal: 17m 2s\tremaining: 37m 54s\n",
      "1600:\tlearn: 0.7345079\ttest: 0.7345079\tbest: 0.7345079 (1600)\ttotal: 17m 36s\tremaining: 37m 22s\n",
      "1650:\tlearn: 0.7353323\ttest: 0.7353323\tbest: 0.7353323 (1650)\ttotal: 18m 8s\tremaining: 36m 48s\n",
      "1700:\tlearn: 0.7361282\ttest: 0.7361282\tbest: 0.7361282 (1700)\ttotal: 18m 41s\tremaining: 36m 14s\n",
      "1750:\tlearn: 0.7368605\ttest: 0.7368605\tbest: 0.7368605 (1750)\ttotal: 19m 12s\tremaining: 35m 39s\n",
      "1800:\tlearn: 0.7375229\ttest: 0.7375229\tbest: 0.7375229 (1800)\ttotal: 19m 44s\tremaining: 35m 4s\n",
      "1850:\tlearn: 0.7382718\ttest: 0.7382718\tbest: 0.7382718 (1850)\ttotal: 20m 17s\tremaining: 34m 31s\n",
      "1900:\tlearn: 0.7389101\ttest: 0.7389101\tbest: 0.7389101 (1900)\ttotal: 20m 49s\tremaining: 33m 56s\n",
      "1950:\tlearn: 0.7395327\ttest: 0.7395327\tbest: 0.7395353 (1949)\ttotal: 21m 21s\tremaining: 33m 22s\n",
      "2000:\tlearn: 0.7402181\ttest: 0.7402181\tbest: 0.7402181 (2000)\ttotal: 21m 53s\tremaining: 32m 48s\n",
      "2050:\tlearn: 0.7409082\ttest: 0.7409082\tbest: 0.7409082 (2050)\ttotal: 22m 25s\tremaining: 32m 14s\n",
      "2100:\tlearn: 0.7415023\ttest: 0.7415023\tbest: 0.7415023 (2100)\ttotal: 22m 57s\tremaining: 31m 40s\n",
      "2150:\tlearn: 0.7420844\ttest: 0.7420844\tbest: 0.7420844 (2150)\ttotal: 23m 28s\tremaining: 31m 5s\n",
      "2200:\tlearn: 0.7426186\ttest: 0.7426186\tbest: 0.7426186 (2200)\ttotal: 24m\tremaining: 30m 31s\n",
      "2250:\tlearn: 0.7431808\ttest: 0.7431808\tbest: 0.7431808 (2250)\ttotal: 24m 31s\tremaining: 29m 57s\n",
      "2300:\tlearn: 0.7437316\ttest: 0.7437316\tbest: 0.7437316 (2300)\ttotal: 25m 4s\tremaining: 29m 24s\n",
      "2350:\tlearn: 0.7441669\ttest: 0.7441669\tbest: 0.7441669 (2350)\ttotal: 25m 35s\tremaining: 28m 50s\n",
      "2400:\tlearn: 0.7446825\ttest: 0.7446825\tbest: 0.7446892 (2399)\ttotal: 26m 8s\tremaining: 28m 17s\n",
      "2450:\tlearn: 0.7452433\ttest: 0.7452433\tbest: 0.7452433 (2450)\ttotal: 26m 39s\tremaining: 27m 43s\n",
      "2500:\tlearn: 0.7456815\ttest: 0.7456815\tbest: 0.7456815 (2500)\ttotal: 27m 10s\tremaining: 27m 9s\n",
      "2550:\tlearn: 0.7462382\ttest: 0.7462382\tbest: 0.7462382 (2550)\ttotal: 27m 41s\tremaining: 26m 34s\n",
      "2600:\tlearn: 0.7468016\ttest: 0.7468016\tbest: 0.7468016 (2600)\ttotal: 28m 13s\tremaining: 26m 1s\n",
      "2650:\tlearn: 0.7472550\ttest: 0.7472550\tbest: 0.7472550 (2650)\ttotal: 28m 44s\tremaining: 25m 27s\n",
      "2700:\tlearn: 0.7476343\ttest: 0.7476343\tbest: 0.7476343 (2700)\ttotal: 29m 15s\tremaining: 24m 54s\n",
      "2750:\tlearn: 0.7480262\ttest: 0.7480262\tbest: 0.7480262 (2750)\ttotal: 29m 46s\tremaining: 24m 20s\n",
      "2800:\tlearn: 0.7485244\ttest: 0.7485244\tbest: 0.7485259 (2798)\ttotal: 30m 17s\tremaining: 23m 46s\n",
      "2850:\tlearn: 0.7490308\ttest: 0.7490308\tbest: 0.7490308 (2850)\ttotal: 30m 49s\tremaining: 23m 13s\n",
      "2900:\tlearn: 0.7494496\ttest: 0.7494496\tbest: 0.7494496 (2900)\ttotal: 31m 19s\tremaining: 22m 40s\n",
      "2950:\tlearn: 0.7497293\ttest: 0.7497293\tbest: 0.7497293 (2950)\ttotal: 31m 49s\tremaining: 22m 6s\n",
      "3000:\tlearn: 0.7502444\ttest: 0.7502444\tbest: 0.7502444 (3000)\ttotal: 32m 21s\tremaining: 21m 33s\n",
      "3050:\tlearn: 0.7506795\ttest: 0.7506795\tbest: 0.7506839 (3049)\ttotal: 32m 53s\tremaining: 21m\n",
      "3100:\tlearn: 0.7510185\ttest: 0.7510185\tbest: 0.7510185 (3100)\ttotal: 33m 24s\tremaining: 20m 27s\n",
      "3150:\tlearn: 0.7513989\ttest: 0.7513989\tbest: 0.7513989 (3150)\ttotal: 33m 55s\tremaining: 19m 54s\n",
      "3200:\tlearn: 0.7516325\ttest: 0.7516325\tbest: 0.7516375 (3198)\ttotal: 34m 25s\tremaining: 19m 20s\n",
      "3250:\tlearn: 0.7519851\ttest: 0.7519851\tbest: 0.7519851 (3250)\ttotal: 34m 55s\tremaining: 18m 47s\n",
      "3300:\tlearn: 0.7522974\ttest: 0.7522974\tbest: 0.7522974 (3300)\ttotal: 35m 25s\tremaining: 18m 13s\n",
      "3350:\tlearn: 0.7527034\ttest: 0.7527034\tbest: 0.7527066 (3349)\ttotal: 35m 56s\tremaining: 17m 41s\n",
      "3400:\tlearn: 0.7529798\ttest: 0.7529798\tbest: 0.7529798 (3400)\ttotal: 36m 26s\tremaining: 17m 8s\n",
      "3450:\tlearn: 0.7533781\ttest: 0.7533781\tbest: 0.7533781 (3450)\ttotal: 36m 57s\tremaining: 16m 35s\n",
      "3500:\tlearn: 0.7537516\ttest: 0.7537516\tbest: 0.7537516 (3500)\ttotal: 37m 28s\tremaining: 16m 2s\n",
      "3550:\tlearn: 0.7540882\ttest: 0.7540882\tbest: 0.7540914 (3548)\ttotal: 37m 59s\tremaining: 15m 30s\n",
      "3600:\tlearn: 0.7544763\ttest: 0.7544763\tbest: 0.7544763 (3600)\ttotal: 38m 31s\tremaining: 14m 58s\n",
      "3650:\tlearn: 0.7547601\ttest: 0.7547601\tbest: 0.7547616 (3647)\ttotal: 39m 2s\tremaining: 14m 25s\n",
      "3700:\tlearn: 0.7551050\ttest: 0.7551050\tbest: 0.7551050 (3700)\ttotal: 39m 32s\tremaining: 13m 52s\n",
      "3750:\tlearn: 0.7554601\ttest: 0.7554601\tbest: 0.7554601 (3750)\ttotal: 40m 3s\tremaining: 13m 20s\n",
      "3800:\tlearn: 0.7557523\ttest: 0.7557523\tbest: 0.7557523 (3800)\ttotal: 40m 34s\tremaining: 12m 47s\n",
      "3850:\tlearn: 0.7560462\ttest: 0.7560462\tbest: 0.7560493 (3849)\ttotal: 41m 4s\tremaining: 12m 15s\n",
      "3900:\tlearn: 0.7563501\ttest: 0.7563501\tbest: 0.7563501 (3900)\ttotal: 41m 35s\tremaining: 11m 43s\n",
      "3950:\tlearn: 0.7566622\ttest: 0.7566622\tbest: 0.7566622 (3950)\ttotal: 42m 6s\tremaining: 11m 10s\n",
      "4000:\tlearn: 0.7569701\ttest: 0.7569701\tbest: 0.7569790 (3999)\ttotal: 42m 37s\tremaining: 10m 38s\n",
      "4050:\tlearn: 0.7572350\ttest: 0.7572350\tbest: 0.7572432 (4048)\ttotal: 43m 7s\tremaining: 10m 6s\n",
      "4100:\tlearn: 0.7575668\ttest: 0.7575668\tbest: 0.7575675 (4098)\ttotal: 43m 37s\tremaining: 9m 33s\n",
      "4150:\tlearn: 0.7578217\ttest: 0.7578217\tbest: 0.7578229 (4148)\ttotal: 44m 9s\tremaining: 9m 1s\n",
      "4200:\tlearn: 0.7581125\ttest: 0.7581125\tbest: 0.7581125 (4200)\ttotal: 44m 38s\tremaining: 8m 29s\n",
      "4250:\tlearn: 0.7584230\ttest: 0.7584230\tbest: 0.7584245 (4249)\ttotal: 45m 9s\tremaining: 7m 57s\n",
      "4300:\tlearn: 0.7586896\ttest: 0.7586896\tbest: 0.7586931 (4298)\ttotal: 45m 40s\tremaining: 7m 25s\n",
      "4350:\tlearn: 0.7589024\ttest: 0.7589024\tbest: 0.7589026 (4349)\ttotal: 46m 9s\tremaining: 6m 53s\n",
      "4400:\tlearn: 0.7591522\ttest: 0.7591522\tbest: 0.7591522 (4400)\ttotal: 46m 40s\tremaining: 6m 21s\n",
      "4450:\tlearn: 0.7593855\ttest: 0.7593855\tbest: 0.7593855 (4450)\ttotal: 47m 10s\tremaining: 5m 49s\n",
      "4500:\tlearn: 0.7596282\ttest: 0.7596282\tbest: 0.7596282 (4500)\ttotal: 47m 39s\tremaining: 5m 17s\n",
      "4550:\tlearn: 0.7598978\ttest: 0.7598978\tbest: 0.7599070 (4549)\ttotal: 48m 10s\tremaining: 4m 45s\n",
      "4600:\tlearn: 0.7602249\ttest: 0.7602249\tbest: 0.7602249 (4600)\ttotal: 48m 40s\tremaining: 4m 13s\n",
      "4650:\tlearn: 0.7605220\ttest: 0.7605220\tbest: 0.7605220 (4650)\ttotal: 49m 11s\tremaining: 3m 41s\n",
      "4700:\tlearn: 0.7607132\ttest: 0.7607132\tbest: 0.7607132 (4700)\ttotal: 49m 40s\tremaining: 3m 9s\n",
      "4750:\tlearn: 0.7609256\ttest: 0.7609256\tbest: 0.7609295 (4749)\ttotal: 50m 11s\tremaining: 2m 37s\n",
      "4800:\tlearn: 0.7611673\ttest: 0.7611673\tbest: 0.7611673 (4800)\ttotal: 50m 40s\tremaining: 2m 6s\n",
      "4850:\tlearn: 0.7614009\ttest: 0.7614009\tbest: 0.7614009 (4848)\ttotal: 51m 11s\tremaining: 1m 34s\n",
      "4900:\tlearn: 0.7616537\ttest: 0.7616537\tbest: 0.7616537 (4900)\ttotal: 51m 41s\tremaining: 1m 2s\n",
      "4950:\tlearn: 0.7618592\ttest: 0.7618592\tbest: 0.7618592 (4950)\ttotal: 52m 11s\tremaining: 31s\n",
      "4999:\tlearn: 0.7620949\ttest: 0.7620949\tbest: 0.7621015 (4997)\ttotal: 52m 41s\tremaining: 0us\n",
      "bestTest = 0.7621014703\n",
      "bestIteration = 4997\n",
      "Shrink model to first 4998 iterations.\n"
     ]
    },
    {
     "data": {
      "text/plain": [
       "<catboost.core.CatBoostClassifier at 0x79c9753b2350>"
      ]
     },
     "execution_count": 37,
     "metadata": {},
     "output_type": "execute_result"
    }
   ],
   "source": [
    "# fitting on all\n",
    "from catboost import CatBoostClassifier\n",
    "\n",
    "model_catboost=CatBoostClassifier(learning_rate=0.2073997778312235,\n",
    "                                  eval_metric=\"Accuracy\",#cat_features=cat,\n",
    "                                  task_type = \"GPU\",\n",
    "                                  iterations=5000,verbose=50,\n",
    "                                  reg_lambda = 9,\n",
    "                                  depth  =5,\n",
    "                                  use_best_model=True,early_stopping_rounds=100)#cat_features=[\"hour\",\"duration\"])\n",
    "\n",
    "# Train the model\n",
    "model_catboost.fit(train.drop([\"ID\",\"label\",\"file\",\"time\"], axis = 1),train.label,\n",
    "                   eval_set=[(train.drop([\"ID\",\"label\",\"file\",\"time\"], axis = 1),train.label,)])"
   ]
  },
  {
   "cell_type": "code",
   "execution_count": 41,
   "id": "GVCKsCJnDlNc",
   "metadata": {
    "id": "GVCKsCJnDlNc"
   },
   "outputs": [],
   "source": [
    "pred  = model_catboost.predict(test.drop([\"ID\",\"label\",\"file\",\"time\"], axis = 1))"
   ]
  },
  {
   "cell_type": "code",
   "execution_count": 42,
   "id": "vfmAlxyoDlQv",
   "metadata": {
    "id": "vfmAlxyoDlQv"
   },
   "outputs": [],
   "source": [
    "test[\"label\"] = pred\n",
    "sub  = test[[\"ID\",\"label\"]]"
   ]
  },
  {
   "cell_type": "code",
   "execution_count": 43,
   "id": "9ZjcQtCGYjjZ",
   "metadata": {
    "id": "9ZjcQtCGYjjZ"
   },
   "outputs": [],
   "source": [
    "del test"
   ]
  },
  {
   "cell_type": "code",
   "execution_count": 44,
   "id": "H9rkj8JGmNqj",
   "metadata": {
    "id": "H9rkj8JGmNqj"
   },
   "outputs": [],
   "source": [
    "import numpy as np\n",
    "sub['label']=sub['label'].astype(np.int8)"
   ]
  },
  {
   "cell_type": "code",
   "execution_count": 45,
   "id": "o13k7S8NDlTh",
   "metadata": {
    "id": "o13k7S8NDlTh"
   },
   "outputs": [],
   "source": [
    "sub.to_csv(\"ll.csv\",index  = False)"
   ]
  },
  {
   "cell_type": "markdown",
   "id": "8dd800d4",
   "metadata": {
    "colab": {
     "base_uri": "https://localhost:8080/",
     "height": 17
    },
    "id": "S3CxK1WuW4ce",
    "outputId": "c8377e52-3e16-474d-ad18-caa6ddc1b48a"
   },
   "source": [
    "###### End."
   ]
  },
  {
   "cell_type": "markdown",
   "id": "b81708e9",
   "metadata": {},
   "source": [
    "Checking Feature Importance Plot"
   ]
  },
  {
   "cell_type": "code",
   "execution_count": null,
   "id": "5LoqGDPKmcuj",
   "metadata": {
    "colab": {
     "base_uri": "https://localhost:8080/",
     "height": 462
    },
    "id": "5LoqGDPKmcuj",
    "outputId": "5741c5e1-c48e-4e94-c664-74385eb2b6fb",
    "scrolled": true
   },
   "outputs": [
    {
     "data": {
      "image/png": "[encoded data removed]",
      "text/plain": [
       "<Figure size 1000x600 with 1 Axes>"
      ]
     },
     "metadata": {},
     "output_type": "display_data"
    }
   ],
   "source": [
    "feature_importance = model_catboost.get_feature_importance()\n",
    "# Plot feature importance\n",
    "# feature_importance = model.get_feature_importance()\n",
    "feature_names = X_train.columns\n",
    "sorted_indices = feature_importance.argsort()[::-1]  # Sort indices in descending order of importance\n",
    "sorted_feature_names = [feature_names[i] for i in sorted_indices]\n",
    "sorted_feature_importance = [feature_importance[i] for i in sorted_indices]\n",
    "\n",
    "plt.figure(figsize=(10, 6))\n",
    "plt.barh(range(len(sorted_feature_importance)), sorted_feature_importance, align='center')\n",
    "plt.yticks(range(len(sorted_feature_importance)), sorted_feature_names)\n",
    "plt.xlabel('Feature Importance')\n",
    "plt.title('CatBoost Feature Importance (Sorted)')\n",
    "plt.gca().invert_yaxis()\n",
    "plt.show()\n"
   ]
  }
 ],
 "metadata": {
  "accelerator": "GPU",
  "colab": {
   "gpuType": "T4",
   "machine_shape": "hm",
   "provenance": []
  },
  "kernelspec": {
   "display_name": "Python 3 (ipykernel)",
   "language": "python",
   "name": "python3"
  },
  "language_info": {
   "codemirror_mode": {
    "name": "ipython",
    "version": 3
   },
   "file_extension": ".py",
   "mimetype": "text/x-python",
   "name": "python",
   "nbconvert_exporter": "python",
   "pygments_lexer": "ipython3",
   "version": "3.8.10"
  }
 },
 "nbformat": 4,
 "nbformat_minor": 5
}
